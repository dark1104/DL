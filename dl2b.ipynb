{
  "cells": [
    {
      "cell_type": "code",
      "execution_count": null,
      "metadata": {
        "id": "3KMyD6d0NL1Z"
      },
      "outputs": [],
      "source": [
        "from tensorflow.keras.datasets import imdb"
      ]
    },
    {
      "cell_type": "code",
      "execution_count": null,
      "metadata": {
        "colab": {
          "base_uri": "https://localhost:8080/"
        },
        "id": "BdN6jv8aNfzz",
        "outputId": "b499921d-5f1a-4ae1-94f8-b1dd6ef7963f"
      },
      "outputs": [],
      "source": [
        "(x_train, y_train), (x_test, y_test) = imdb.load_data(num_words=10000)"
      ]
    },
    {
      "cell_type": "code",
      "execution_count": null,
      "metadata": {
        "colab": {
          "base_uri": "https://localhost:8080/"
        },
        "id": "DIkk2HgHNhpy",
        "outputId": "6afe049f-d2e2-4cb2-c5e4-60671e4b1e64"
      },
      "outputs": [],
      "source": [
        "print(\"Train Shape :\",x_train.shape)\n",
        "print(\"Test Shape :\",x_test.shape)"
      ]
    },
    {
      "cell_type": "code",
      "execution_count": null,
      "metadata": {
        "colab": {
          "base_uri": "https://localhost:8080/"
        },
        "id": "mohEvpLjNjGU",
        "outputId": "170f54ca-8949-4136-8724-27522275120c"
      },
      "outputs": [],
      "source": [
        "print(\"y_train shape :\",y_train.shape)\n",
        "print(\"y_test shape :\",y_test.shape)"
      ]
    },
    {
      "cell_type": "code",
      "execution_count": null,
      "metadata": {
        "colab": {
          "base_uri": "https://localhost:8080/"
        },
        "id": "HC5dUZRPNkyu",
        "outputId": "6d2db702-2bf4-476e-d3ef-37dd64de89a9"
      },
      "outputs": [],
      "source": [
        "print(x_train[1])"
      ]
    },
    {
      "cell_type": "code",
      "execution_count": null,
      "metadata": {
        "colab": {
          "base_uri": "https://localhost:8080/"
        },
        "id": "QeBDvEC9Nl5K",
        "outputId": "e8ffae6d-871e-4bd8-c7f5-a3f787ed43bd"
      },
      "outputs": [],
      "source": [
        "print(y_train[1])\n"
      ]
    },
    {
      "cell_type": "code",
      "execution_count": null,
      "metadata": {
        "colab": {
          "base_uri": "https://localhost:8080/"
        },
        "id": "eXbRQ9NsNnLw",
        "outputId": "869a68f5-ca72-4e94-f3b9-d74b1bcb3204"
      },
      "outputs": [],
      "source": [
        "vocab=imdb.get_word_index()\n",
        "print(vocab['the'])\n"
      ]
    },
    {
      "cell_type": "code",
      "execution_count": null,
      "metadata": {
        "id": "V_EOwvnvNonF"
      },
      "outputs": [],
      "source": [
        "class_names=['Negative', 'Positive']"
      ]
    },
    {
      "cell_type": "code",
      "execution_count": null,
      "metadata": {
        "id": "9lH-ESXKNp5B"
      },
      "outputs": [],
      "source": [
        "reverse_index = dict([(value, key) for (key, value) in vocab.items()])"
      ]
    },
    {
      "cell_type": "code",
      "execution_count": null,
      "metadata": {
        "id": "V7v7b2uRNtT0"
      },
      "outputs": [],
      "source": [
        "def decode(review):\n",
        "    text=\"\"\n",
        "    for i in review:\n",
        "        text=text+reverse_index[i]\n",
        "        text=text+\" \"\n",
        "    return text\n"
      ]
    },
    {
      "cell_type": "code",
      "execution_count": null,
      "metadata": {
        "colab": {
          "base_uri": "https://localhost:8080/",
          "height": 140
        },
        "id": "athPFaogNxwp",
        "outputId": "284929c0-7c2b-47f8-9e6d-09a7ed7e51cd"
      },
      "outputs": [],
      "source": [
        "decode(x_train[1])\n"
      ]
    },
    {
      "cell_type": "code",
      "execution_count": null,
      "metadata": {
        "colab": {
          "base_uri": "https://localhost:8080/"
        },
        "id": "wXarZ6H5Nz3w",
        "outputId": "b55d0c01-e629-43ab-fc23-c99186a0c5bb"
      },
      "outputs": [],
      "source": [
        "def showlen():\n",
        "    print(\"Length of first training sample: \",len(x_train[0]))\n",
        "    print(\"Length of second training sample: \",len(x_train[1]))\n",
        "    print(\"Length of first test sample: \",len(x_test[0]))\n",
        "    print(\"Length of second test sample: \",len(x_test[1]))\n",
        "showlen()\n"
      ]
    },
    {
      "cell_type": "code",
      "execution_count": null,
      "metadata": {
        "id": "LweADBe-N1Uy"
      },
      "outputs": [],
      "source": [
        "from tensorflow.keras.preprocessing.sequence import pad_sequences"
      ]
    },
    {
      "cell_type": "code",
      "execution_count": null,
      "metadata": {
        "id": "Hesp5zeNN4xj"
      },
      "outputs": [],
      "source": [
        "x_train=pad_sequences(x_train, value=vocab['the'], padding='post', maxlen=256)\n",
        "x_test=pad_sequences(x_test, value=vocab['the'], padding='post', maxlen=256)\n"
      ]
    },
    {
      "cell_type": "code",
      "execution_count": null,
      "metadata": {
        "colab": {
          "base_uri": "https://localhost:8080/"
        },
        "id": "d-upn7efN5-8",
        "outputId": "501a9e5a-c27c-4eac-a0dc-63f4a8c37e2d"
      },
      "outputs": [],
      "source": [
        "showlen()"
      ]
    },
    {
      "cell_type": "code",
      "execution_count": null,
      "metadata": {
        "colab": {
          "base_uri": "https://localhost:8080/",
          "height": 140
        },
        "id": "stYZ7TIlN7df",
        "outputId": "c8f5ac9b-fdc4-4d8b-d635-2e9e04cd291a"
      },
      "outputs": [],
      "source": [
        "decode(x_train[1])\n"
      ]
    },
    {
      "cell_type": "code",
      "execution_count": null,
      "metadata": {
        "id": "mO57qVyYN9BE"
      },
      "outputs": [],
      "source": [
        "from tensorflow.keras.models import Sequential\n",
        "from tensorflow.keras.layers import Dense, Embedding, GlobalAveragePooling1D"
      ]
    },
    {
      "cell_type": "code",
      "execution_count": null,
      "metadata": {
        "colab": {
          "base_uri": "https://localhost:8080/"
        },
        "id": "eFTXg6fGN_cj",
        "outputId": "bd68df45-0fad-489e-cbc3-74282be904ee"
      },
      "outputs": [],
      "source": [
        " model=Sequential()\n",
        "model.add(Embedding(10000,16))\n",
        "model.add(GlobalAveragePooling1D())\n",
        "model.add(Dense(16,activation='relu'))\n",
        "model.add(Dense(1,activation='sigmoid'))\n",
        "model.compile(optimizer='adam', loss='binary_crossentropy',metrics=['accuracy'])\n",
        "model.summary()"
      ]
    },
    {
      "cell_type": "code",
      "execution_count": null,
      "metadata": {
        "colab": {
          "base_uri": "https://localhost:8080/"
        },
        "id": "JWBOUfTUOBAM",
        "outputId": "713a3b3d-9522-431b-d053-017eae23eb79"
      },
      "outputs": [],
      "source": [
        "model.fit(x_train, y_train, epochs=4, batch_size=128, verbose=1,validation_data=(x_test, y_test))"
      ]
    },
    {
      "cell_type": "code",
      "execution_count": null,
      "metadata": {
        "colab": {
          "base_uri": "https://localhost:8080/"
        },
        "id": "dl2dlfIoOGx9",
        "outputId": "5025eb11-d77b-4907-b5af-b09810a3df9b"
      },
      "outputs": [],
      "source": [
        "x_test[10]"
      ]
    },
    {
      "cell_type": "code",
      "execution_count": null,
      "metadata": {
        "colab": {
          "base_uri": "https://localhost:8080/"
        },
        "id": "NNKH3LJ5OI4M",
        "outputId": "86a15a8d-f0e5-48cb-faee-a94ff3861acd"
      },
      "outputs": [],
      "source": [
        "y_test[10]"
      ]
    },
    {
      "cell_type": "code",
      "execution_count": null,
      "metadata": {
        "colab": {
          "base_uri": "https://localhost:8080/"
        },
        "id": "HHabEx4ROLjn",
        "outputId": "6f3cae0a-429d-4d3f-f84b-ed572afe9b96"
      },
      "outputs": [],
      "source": [
        "import numpy as np\n",
        "predicted_value=model.predict(np.expand_dims(x_test[10], 0))\n",
        "print(predicted_value)\n",
        "if predicted_value>0.5:\n",
        "    final_value=1\n",
        "else:\n",
        "    final_value=0\n",
        "print(final_value)\n",
        "print(class_names[final_value])"
      ]
    },
    {
      "cell_type": "code",
      "execution_count": null,
      "metadata": {
        "colab": {
          "base_uri": "https://localhost:8080/"
        },
        "id": "vR7SskP1OOo6",
        "outputId": "ae1f9bff-838e-468c-d266-6b56b8ccfd8d"
      },
      "outputs": [],
      "source": [
        "loss, accuracy = model.evaluate(x_test, y_test)\n",
        "print(\"Loss :\",loss)\n",
        "print(\"Accuracy (Test Data) :\",accuracy*100)"
      ]
    }
  ],
  "metadata": {
    "colab": {
      "provenance": [],
      "toc_visible": true
    },
    "kernelspec": {
      "display_name": "Python 3",
      "language": "python",
      "name": "python3"
    },
    "language_info": {
      "codemirror_mode": {
        "name": "ipython",
        "version": 3
      },
      "file_extension": ".py",
      "mimetype": "text/x-python",
      "name": "python",
      "nbconvert_exporter": "python",
      "pygments_lexer": "ipython3",
      "version": "3.11.0"
    },
    "vscode": {
      "interpreter": {
        "hash": "c261aea317cc0286b3b3261fbba9abdec21eaa57589985bb7a274bf54d6cc0a7"
      }
    }
  },
  "nbformat": 4,
  "nbformat_minor": 0
}
