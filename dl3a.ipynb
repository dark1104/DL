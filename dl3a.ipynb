{
 "cells": [
  {
   "cell_type": "code",
   "execution_count": null,
   "metadata": {},
   "outputs": [],
   "source": [
    "from tensorflow.keras.layers import Conv2D, MaxPooling2D, Flatten, Dense, Dropout, BatchNormalization\n",
    "import numpy as np\n",
    "from tensorflow.keras.models import Sequential\n",
    "from tensorflow.keras.preprocessing.image import ImageDataGenerator, load_img, img_to_array\n",
    "train_dir = r'New Plant Diseases Dataset(Augmented)\\train'\n",
    "val_dir = r'New Plant Diseases Dataset(Augmented)\\valid'\n",
    "img_size = 224\n",
    "batch_size = 32\n",
    "train_datagen = ImageDataGenerator(rescale=1./255)\n",
    "train_generator = train_datagen.flow_from_directory(train_dir, target_size=(\n",
    "    img_size, img_size), batch_size=batch_size, class_mode='categorical')\n",
    "val_datagen = ImageDataGenerator(rescale=1./255)\n",
    "val_generator = val_datagen.flow_from_directory(val_dir, target_size=(\n",
    "    img_size, img_size), batch_size=batch_size, class_mode='categorical')\n",
    "list(train_generator.class_indices)\n",
    "model = Sequential()\n",
    "model.add((Conv2D(32, (3, 3), activation='relu', input_shape=(img_size,img_size, 3))))\n",
    "model.add(BatchNormalization())\n",
    "model.add((MaxPooling2D(2, 2)))\n",
    "model.add((Conv2D(64, (3, 3), activation='relu')))\n",
    "model.add(BatchNormalization())\n",
    "model.add((MaxPooling2D(2, 2)))\n",
    "model.add((Conv2D(64, (3, 3), activation='relu')))\n",
    "model.add(BatchNormalization())\n",
    "model.add((MaxPooling2D(2, 2)))\n",
    "model.add((Conv2D(128, (3, 3), activation='relu')))\n",
    "model.add(BatchNormalization())\n",
    "model.add((MaxPooling2D(2, 2)))\n",
    "model.add((Flatten()))\n",
    "model.add((Dense(128, activation='relu')))\n",
    "model.add((Dropout(0.2)))\n",
    "model.add((Dense(64, activation='relu')))\n",
    "model.add((Dense(train_generator.num_classes, activation='softmax')))\n",
    "model.summary()\n",
    "model.compile(optimizer='adam', loss='categorical_crossentropy',\n",
    "              metrics=['accuracy'])\n",
    "model.fit(train_generator, epochs=50, validation_data=val_generator)\n",
    "loss, accuracy = model.evaluate(val_generator)\n",
    "print(\"Loss :\", loss)\n",
    "print(\"Accuracy (Test Data) :\", accuracy*100)\n",
    "img_path = r'D: \\DL Practical\\New Plant Diseases␣Dataset(Augmented)\\valid\\Tomato Early_blight\\5b86ab6a-3823-4886-85fd-02190898563c RS_ErB 8452.JPG'\n",
    "img = load_img(img_path, target_size=(224, 224))\n",
    "img_array = img_to_array(img)\n",
    "img_array = np.expand_dims(img_array, axis=0)\n",
    "img_array /= 255\n",
    "rediction = model.predict(img_array)\n",
    "predicted_class = np.argmax(rediction)\n",
    "print(rediction)\n",
    "print(predicted_class)\n",
    "print('Predicted class:', class_names[predicted_class])\n"
   ]
  }
 ],
 "metadata": {
  "kernelspec": {
   "display_name": "Python 3",
   "language": "python",
   "name": "python3"
  },
  "language_info": {
   "codemirror_mode": {
    "name": "ipython",
    "version": 3
   },
   "file_extension": ".py",
   "mimetype": "text/x-python",
   "name": "python",
   "nbconvert_exporter": "python",
   "pygments_lexer": "ipython3",
   "version": "3.11.0"
  },
  "orig_nbformat": 4,
  "vscode": {
   "interpreter": {
    "hash": "c261aea317cc0286b3b3261fbba9abdec21eaa57589985bb7a274bf54d6cc0a7"
   }
  }
 },
 "nbformat": 4,
 "nbformat_minor": 2
}
