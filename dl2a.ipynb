{
  "cells": [
    {
      "cell_type": "code",
      "execution_count": null,
      "metadata": {
        "id": "Vx3yfd_fLDoZ"
      },
      "outputs": [],
      "source": [
        "import pandas as pd\n",
        "import numpy as np\n",
        "from sklearn.model_selection import train_test_split"
      ]
    },
    {
      "cell_type": "code",
      "execution_count": null,
      "metadata": {
        "id": "WOPEmpbWLHvf"
      },
      "outputs": [],
      "source": [
        "columns = [\"lettr\", \"x-box\", \"y-box\", \"width\", \"height\", \"onpix\", \"x-bar\",\"y-bar\", \"x2bar\", \"y2bar\", \"xybar\", \"x2ybr\", \"xy2br\", \"x-ege\", \"xegvy\",\"y-ege\", \"yegvx\"]"
      ]
    },
    {
      "cell_type": "code",
      "execution_count": null,
      "metadata": {
        "colab": {
          "base_uri": "https://localhost:8080/",
          "height": 423
        },
        "id": "Nje6AfsILQPo",
        "outputId": "fdeb3c5b-51a2-45df-a38d-0ed4f34a46a8"
      },
      "outputs": [],
      "source": [
        "df = pd.read_csv('letter-recognition.data', names=columns)\n",
        "df"
      ]
    },
    {
      "cell_type": "code",
      "execution_count": null,
      "metadata": {
        "id": "GY_MyizHLY9q"
      },
      "outputs": [],
      "source": [
        "x = df.drop(\"lettr\", axis=1).values\n",
        "y = df[\"lettr\"].values\n"
      ]
    },
    {
      "cell_type": "code",
      "execution_count": null,
      "metadata": {
        "colab": {
          "base_uri": "https://localhost:8080/"
        },
        "id": "FEHzhwttLZCO",
        "outputId": "f1851211-6770-4d63-b9d9-8a078a0634f9"
      },
      "outputs": [],
      "source": [
        "x.shape\n"
      ]
    },
    {
      "cell_type": "code",
      "execution_count": null,
      "metadata": {
        "colab": {
          "base_uri": "https://localhost:8080/"
        },
        "id": "lb7wg5HiL5sT",
        "outputId": "8cd8fdff-6916-4fa2-b11e-59af9cc1b7a1"
      },
      "outputs": [],
      "source": [
        "y.shape"
      ]
    },
    {
      "cell_type": "code",
      "execution_count": null,
      "metadata": {
        "colab": {
          "base_uri": "https://localhost:8080/"
        },
        "id": "lnB3Xz7OL61O",
        "outputId": "d415e93f-4843-484c-e4d2-9eaea806c75a"
      },
      "outputs": [],
      "source": [
        "np.unique(y)"
      ]
    },
    {
      "cell_type": "code",
      "execution_count": null,
      "metadata": {
        "id": "TqCi9V03L9dI"
      },
      "outputs": [],
      "source": [
        "x_train, x_test, y_train, y_test = train_test_split(x, y, test_size=0.2)"
      ]
    },
    {
      "cell_type": "code",
      "execution_count": null,
      "metadata": {
        "colab": {
          "base_uri": "https://localhost:8080/"
        },
        "id": "6aNTx9kgMAf-",
        "outputId": "f417acc0-e405-4ced-eca0-c5eb4a781530"
      },
      "outputs": [],
      "source": [
        "def shape():\n",
        "    print(\"Train Shape :\",x_train.shape)\n",
        "    print(\"Test Shape :\",x_test.shape)\n",
        "    print(\"y_train shape :\",y_train.shape)\n",
        "    print(\"y_test shape :\",y_test.shape)\n",
        "shape()\n"
      ]
    },
    {
      "cell_type": "code",
      "execution_count": null,
      "metadata": {
        "colab": {
          "base_uri": "https://localhost:8080/"
        },
        "id": "1uQJFBizMC5C",
        "outputId": "649c8cdf-4486-4804-b3b0-4992656581cb"
      },
      "outputs": [],
      "source": [
        "x_train[0]"
      ]
    },
    {
      "cell_type": "code",
      "execution_count": null,
      "metadata": {
        "colab": {
          "base_uri": "https://localhost:8080/",
          "height": 36
        },
        "id": "mT2HLEclMFmR",
        "outputId": "a98c62a8-1b2c-4f45-ec25-769ab2fafe36"
      },
      "outputs": [],
      "source": [
        "y_train[0]\n"
      ]
    },
    {
      "cell_type": "code",
      "execution_count": null,
      "metadata": {
        "id": "hDWaHPkfMGni"
      },
      "outputs": [],
      "source": [
        "class_names=['A', 'B', 'C', 'D', 'E', 'F', 'G', 'H', 'I', 'J', 'K', 'L', 'M','N', 'O', 'P', 'Q', 'R', 'S', 'T', 'U', 'V', 'W', 'X', 'Y', 'Z']\n"
      ]
    },
    {
      "cell_type": "code",
      "execution_count": null,
      "metadata": {
        "colab": {
          "base_uri": "https://localhost:8080/"
        },
        "id": "__-SKdd3MMUk",
        "outputId": "4959c256-bb06-41c5-a471-3682ef4bcbfb"
      },
      "outputs": [],
      "source": [
        "x_test[10]"
      ]
    },
    {
      "cell_type": "code",
      "execution_count": null,
      "metadata": {
        "colab": {
          "base_uri": "https://localhost:8080/",
          "height": 36
        },
        "id": "JjsC8wKyMMZ4",
        "outputId": "72289b52-3a40-4847-dddd-6d1dd5279fc4"
      },
      "outputs": [],
      "source": [
        "y_test[10]"
      ]
    },
    {
      "cell_type": "code",
      "execution_count": null,
      "metadata": {
        "id": "ANBnKb18MQyo"
      },
      "outputs": [],
      "source": [
        "x_train = x_train/255\n",
        "x_test = x_test/255"
      ]
    },
    {
      "cell_type": "code",
      "execution_count": null,
      "metadata": {
        "id": "4EvuW4ZyMUnO"
      },
      "outputs": [],
      "source": [
        "from sklearn.preprocessing import LabelEncoder"
      ]
    },
    {
      "cell_type": "code",
      "execution_count": null,
      "metadata": {
        "id": "KsQfiMnYMWTJ"
      },
      "outputs": [],
      "source": [
        "encoder = LabelEncoder()\n",
        "y_train = encoder.fit_transform(y_train)\n",
        "y_test = encoder.fit_transform(y_test)\n"
      ]
    },
    {
      "cell_type": "code",
      "execution_count": null,
      "metadata": {
        "id": "5D3vTuMPMZpq"
      },
      "outputs": [],
      "source": [
        "from tensorflow.keras.models import Sequential\n",
        "from tensorflow.keras.layers import Dense, Dropout"
      ]
    },
    {
      "cell_type": "code",
      "execution_count": null,
      "metadata": {
        "colab": {
          "base_uri": "https://localhost:8080/"
        },
        "id": "WagkRATJMc26",
        "outputId": "71650a88-85c6-45de-b6ab-5fa3c5f8fa4a"
      },
      "outputs": [],
      "source": [
        "model=Sequential()\n",
        "model.add(Dense(512, activation='relu', input_shape=(16,)))\n",
        "model.add(Dropout(0.2))\n",
        "model.add(Dense(256, activation='relu'))\n",
        "model.add(Dropout(0.2))\n",
        "model.add(Dense(26, activation='softmax'))\n",
        "model.compile(optimizer='adam', loss='sparse_categorical_crossentropy',metrics=['accuracy'])\n",
        "model.summary()\n"
      ]
    },
    {
      "cell_type": "code",
      "execution_count": null,
      "metadata": {
        "colab": {
          "base_uri": "https://localhost:8080/"
        },
        "id": "GHv0l6K5MhjQ",
        "outputId": "0b5b73ca-331a-46aa-a765-b0ae4a8e582c"
      },
      "outputs": [],
      "source": [
        " model.fit(x_train, y_train, epochs=50, batch_size=128, verbose=1,validation_data=(x_test, y_test))"
      ]
    },
    {
      "cell_type": "code",
      "execution_count": null,
      "metadata": {
        "colab": {
          "base_uri": "https://localhost:8080/"
        },
        "id": "sbZaMfPvMzDv",
        "outputId": "122c9fbe-6575-49d1-9b0b-db20c9c57591"
      },
      "outputs": [],
      "source": [
        "predictions = model.predict(x_test)"
      ]
    },
    {
      "cell_type": "code",
      "execution_count": null,
      "metadata": {
        "colab": {
          "base_uri": "https://localhost:8080/"
        },
        "id": "ZeMjR2mFM6RH",
        "outputId": "c4692859-a151-4c2e-beb7-8c33b32976f0"
      },
      "outputs": [],
      "source": [
        "index=10\n",
        "print(predictions[index])\n",
        "final_value=np.argmax(predictions[index])\n",
        "print(\"Actual label :\",y_test[index])\n",
        "print(\"Predicted label :\",final_value)\n",
        "print(\"Class (A-Z) :\",class_names[final_value])\n"
      ]
    },
    {
      "cell_type": "code",
      "execution_count": null,
      "metadata": {
        "colab": {
          "base_uri": "https://localhost:8080/"
        },
        "id": "BVr1Jc8vM8z7",
        "outputId": "02f84828-3231-470e-9bd3-2de0b69f3c7e"
      },
      "outputs": [],
      "source": [
        "loss, accuracy = model.evaluate(x_test, y_test)\n",
        "print(\"Loss :\",loss)\n",
        "print(\"Accuracy (Test Data) :\",accuracy*100)"
      ]
    }
  ],
  "metadata": {
    "colab": {
      "provenance": []
    },
    "kernelspec": {
      "display_name": "Python 3",
      "language": "python",
      "name": "python3"
    },
    "language_info": {
      "codemirror_mode": {
        "name": "ipython",
        "version": 3
      },
      "file_extension": ".py",
      "mimetype": "text/x-python",
      "name": "python",
      "nbconvert_exporter": "python",
      "pygments_lexer": "ipython3",
      "version": "3.11.0"
    },
    "vscode": {
      "interpreter": {
        "hash": "c261aea317cc0286b3b3261fbba9abdec21eaa57589985bb7a274bf54d6cc0a7"
      }
    }
  },
  "nbformat": 4,
  "nbformat_minor": 0
}
